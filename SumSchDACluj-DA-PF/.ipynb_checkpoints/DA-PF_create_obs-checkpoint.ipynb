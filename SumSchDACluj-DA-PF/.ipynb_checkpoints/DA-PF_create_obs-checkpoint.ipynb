{
 "cells": [
  {
   "cell_type": "markdown",
   "metadata": {},
   "source": [
    "# Data Assimilation: Particle Filters -- Create \"observed\" data\n",
    "Femke Vossepoel F.C.Vossepoel@TUDelft.nl; \n",
    "Samantha Kim S.S.R.Kim@TUDelft.nl;\n",
    "Dieter Werthmüller D.Werthmuller@TUDelft.nl\n",
    "\n",
    "Note: _This script is only to generate \"synthetic\" data, our **synthetic twin**. For mor info about the forward model **Mogi** please consult the main notebook._\n",
    "\n",
    "To test the performance of a method, we often conduct a so-called 'synthetic twin' experiment (a.k.a. inverse crime). This means that we generate a (simplified) synthetic model of the Earth, and using an (often also simplified) forward model to generate \"artificial\" observations. These artificial observations of our synthetic twin is then treated afterwards as if it would be actually observed data. Knowing our artificial world and its behaviour allows us to test a process. After successfully testing it we can apply the process to actually observed data.\n",
    "\n",
    "Here, we therefore simply generate some data and save it to a 'acquisition-file', together with observation information, in our case $x$ and $y$ coordinates.\n",
    "\n",
    "## Our model\n",
    "\n",
    "- Mogi model\n",
    "- Sources in a horizontally regular grid, 10 km distance between each.\n",
    "- Some \"pseudo-random\" depths: -3 km +/- a few dozens meters. *The students will assume -3 km*.\n",
    "- Some \"pseudo-random\" strengths between -1 and -5. *The students will start with -2*.\n",
    "- Observations at the surface at 0 km, same grid as sources.\n",
    "- Adding Gaussian noise of 1 % to the observations.\n",
    "\n",
    "*The Gaussian noise plus the wrong depths ensures that one cannot find the true source strengths by manual try-and-error.*"
   ]
  },
  {
   "cell_type": "code",
   "execution_count": 1,
   "metadata": {},
   "outputs": [],
   "source": [
    "import numpy as np\n",
    "from mogi_model import mogi\n",
    "rng = np.random.default_rng()  # Initiate a Random Number Generator"
   ]
  },
  {
   "cell_type": "markdown",
   "metadata": {},
   "source": [
    "### Sources"
   ]
  },
  {
   "cell_type": "code",
   "execution_count": 2,
   "metadata": {},
   "outputs": [
    {
     "name": "stdout",
     "output_type": "stream",
     "text": [
      "\n",
      "         = Source positions and strengths  =\n",
      "\n",
      "  # ::        x            y          z    strength\n",
      "------------------------------------------------------\n",
      "  1 ::   730000.0    5920000.0    -3005.1    -2.31\n",
      "  2 ::   730000.0    5910000.0    -3034.9    -2.13\n",
      "  3 ::   730000.0    5900000.0    -2928.5    -2.56\n",
      "  4 ::   740000.0    5920000.0    -2991.3    -1.9\n",
      "  5 ::   740000.0    5910000.0    -2990.8    -4.78\n",
      "  6 ::   740000.0    5900000.0    -2993.3    -1.26\n",
      "  7 ::   750000.0    5920000.0    -3004.1    -1.14\n",
      "  8 ::   750000.0    5910000.0    -2999.4    -3.27\n",
      "  9 ::   750000.0    5900000.0    -2970.5    -1.43\n"
     ]
    }
   ],
   "source": [
    "# x- and y-coordinates\n",
    "x = np.array([730000.0, 740000.0, 750000.0])\n",
    "y = np.array([5920000.0, 5910000.0, 5900000.0])\n",
    "xy = np.meshgrid(x, y)  # 'meshing'\n",
    "xx = xy[0].ravel('F')\n",
    "yy = xy[1].ravel('F')\n",
    "\n",
    "# Pseudo-random source depths\n",
    "zz = np.array([-3005.1, -3034.9, -2928.5, -2991.3, -2990.8, -2993.3, -3004.1, -2999.4, -2970.5])\n",
    "\n",
    "# Assemble coordinates\n",
    "sources = np.vstack([xx, yy, zz]).transpose()\n",
    "\n",
    "# Pseudo-random source strengths\n",
    "strengths = np.array([-2.31, -2.13, -2.56, -1.90, -4.78, -1.26, -1.14, -3.27, -1.43])\n",
    "\n",
    "print(\"\\n         = Source positions and strengths  =\\n\\n\"\n",
    "      f\"  # ::        x            y          z    strength\\n{54*'-'}\")\n",
    "for i in range(sources.shape[0]):\n",
    "    print(f\"{i+1:3d} ::   {sources[i, 0]}    {sources[i, 1]}    {sources[i, 2]}    {strengths[i]}\")"
   ]
  },
  {
   "cell_type": "markdown",
   "metadata": {},
   "source": [
    "### Observations\n",
    "\n",
    "Here, we take the same x/y-positions as for the sources, but at z=0. However, we could also choose entirely different locations for the observations (and also much more or much fewer than sources)."
   ]
  },
  {
   "cell_type": "code",
   "execution_count": 3,
   "metadata": {},
   "outputs": [
    {
     "name": "stdout",
     "output_type": "stream",
     "text": [
      "\n",
      "      = Observation locations and deformations  =\n",
      "\n",
      "  # ::        x            y      z        subsidence      error (%)\n",
      "----------------------------------------------------------------------\n",
      "  1 ::   730000.0    5920000.0    0.0    -6.522483e-02       0.56\n",
      "  2 ::   730000.0    5910000.0    0.0    -6.202134e-02       2.77\n",
      "  3 ::   730000.0    5900000.0    0.0    -7.464752e-02       3.81\n",
      "  4 ::   740000.0    5920000.0    0.0    -5.748421e-02       0.47\n",
      "  5 ::   740000.0    5910000.0    0.0    -1.319043e-01       1.53\n",
      "  6 ::   740000.0    5900000.0    0.0    -4.065283e-02       0.13\n",
      "  7 ::   750000.0    5920000.0    0.0    -3.544879e-02       0.59\n",
      "  8 ::   750000.0    5910000.0    0.0    -9.323383e-02       0.68\n",
      "  9 ::   750000.0    5900000.0    0.0    -4.368474e-02       2.61\n"
     ]
    }
   ],
   "source": [
    "obs = np.zeros((sources.shape[0], 4))\n",
    "obs[:, :2] = sources[:, :2].copy()\n",
    "\n",
    "# Compute the forward model at the observation points and store it.\n",
    "obs[:, 3] = mogi(obs[:, 0], obs[:, 1], obs[:, 2], sources, strengths)[2]\n",
    "\n",
    "# Add Gaussian noise with stddev = 1 %\n",
    "obs[:, 3] = rng.normal(obs[:, 3], scale=abs(obs[:, 3])*0.01)\n",
    "\n",
    "# \"idealized\": Assuming (a) correct strength; (b) depth= -3 km; (c) no noise\n",
    "idealized = mogi(xx, yy, zz*0, np.vstack([xx, yy, zz*0-3000]).transpose(), strengths)[2]\n",
    "nrmsd = 200*abs((idealized - obs[:, 3])/(abs(idealized)+abs(obs[:, 3])))\n",
    "\n",
    "print(\"\\n      = Observation locations and deformations  =\\n\\n\"\n",
    "      f\"  # ::        x            y      z        subsidence      error (%)\\n{70*'-'}\")\n",
    "for i in range(obs.shape[0]):\n",
    "    \n",
    "    print(f\"{i+1:3d} ::   {obs[i, 0]}    {obs[i, 1]}    {obs[i, 2]}    {obs[i, 3]:.6e}       {nrmsd[i]:.2f}\")"
   ]
  },
  {
   "cell_type": "markdown",
   "metadata": {},
   "source": [
    "#### Note\n",
    "The *idealized* data set assumes that the Mogi sources are taken to be at -3 km, as the students do, and forward modelled without added noise. => **The error is therefore a measure for both the random Gaussian noise added to the observations and the error coming from the wrong depth estimate**.\n",
    "\n",
    "### Save file\n",
    "\n",
    "We save the observations to a file called `subsidence_data.txt` in the current directory. This file is loaded as observations in the main Data Assimilation notebook."
   ]
  },
  {
   "cell_type": "code",
   "execution_count": 4,
   "metadata": {},
   "outputs": [],
   "source": [
    "np.savetxt(\n",
    "    'subsidence_data.txt',\n",
    "    obs,\n",
    "    fmt='%12.1f %12.1f %8.1f %14.4e',\n",
    "    delimiter='    ',\n",
    "    header='   x [m]        y [m]    z [m]   subsidence [m]',\n",
    ")"
   ]
  }
 ],
 "metadata": {
  "kernelspec": {
   "display_name": "Python 3 (ipykernel)",
   "language": "python",
   "name": "python3"
  },
  "language_info": {
   "codemirror_mode": {
    "name": "ipython",
    "version": 3
   },
   "file_extension": ".py",
   "mimetype": "text/x-python",
   "name": "python",
   "nbconvert_exporter": "python",
   "pygments_lexer": "ipython3",
   "version": "3.9.16"
  }
 },
 "nbformat": 4,
 "nbformat_minor": 2
}
